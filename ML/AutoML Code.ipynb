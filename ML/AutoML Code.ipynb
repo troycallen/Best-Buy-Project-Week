{
 "cells": [
  {
   "cell_type": "code",
   "execution_count": 48,
   "id": "2dea0af8",
   "metadata": {},
   "outputs": [],
   "source": [
    "import pandas as pd\n",
    "import numpy\n",
    "import scipy\n",
    "import os\n",
    "\n",
    "df0 = pd.read_excel(os.path.expanduser('~/Downloads/Hackathon Data.xlsx'))"
   ]
  },
  {
   "cell_type": "code",
   "execution_count": 76,
   "id": "6f7db7af",
   "metadata": {},
   "outputs": [
    {
     "data": {
      "text/html": [
       "<div>\n",
       "<style scoped>\n",
       "    .dataframe tbody tr th:only-of-type {\n",
       "        vertical-align: middle;\n",
       "    }\n",
       "\n",
       "    .dataframe tbody tr th {\n",
       "        vertical-align: top;\n",
       "    }\n",
       "\n",
       "    .dataframe thead th {\n",
       "        text-align: right;\n",
       "    }\n",
       "</style>\n",
       "<table border=\"1\" class=\"dataframe\">\n",
       "  <thead>\n",
       "    <tr style=\"text-align: right;\">\n",
       "      <th></th>\n",
       "      <th>Encoded_SKU_ID</th>\n",
       "      <th>SALES_DATE</th>\n",
       "      <th>SUBCLASS_NAME</th>\n",
       "      <th>CLASS_NAME</th>\n",
       "      <th>ML_NAME</th>\n",
       "      <th>CATEGORY_NAME</th>\n",
       "      <th>RETAIL_PRICE</th>\n",
       "      <th>PROMO_PRICE2</th>\n",
       "      <th>COMPETITOR_PRICE2</th>\n",
       "      <th>Inventory</th>\n",
       "      <th>DAILY_UNITS</th>\n",
       "    </tr>\n",
       "  </thead>\n",
       "  <tbody>\n",
       "    <tr>\n",
       "      <th>0</th>\n",
       "      <td>214</td>\n",
       "      <td>2017-05-28</td>\n",
       "      <td>MISC ACCY</td>\n",
       "      <td>MOBILE ACCESSORIES</td>\n",
       "      <td>ML - Connected Car</td>\n",
       "      <td>VP - Electrify &amp; Car</td>\n",
       "      <td>19.99</td>\n",
       "      <td>19.99</td>\n",
       "      <td>19.99</td>\n",
       "      <td>Out-of-Stock</td>\n",
       "      <td>0</td>\n",
       "    </tr>\n",
       "    <tr>\n",
       "      <th>1</th>\n",
       "      <td>329</td>\n",
       "      <td>2017-05-28</td>\n",
       "      <td>SO PARTS</td>\n",
       "      <td>MOBILE ACCESSORIES</td>\n",
       "      <td>ML - Connected Car</td>\n",
       "      <td>VP - Electrify &amp; Car</td>\n",
       "      <td>16.99</td>\n",
       "      <td>16.99</td>\n",
       "      <td>16.99</td>\n",
       "      <td>Out-of-Stock</td>\n",
       "      <td>0</td>\n",
       "    </tr>\n",
       "    <tr>\n",
       "      <th>2</th>\n",
       "      <td>66</td>\n",
       "      <td>2017-05-28</td>\n",
       "      <td>MIRRORLESS LENSES</td>\n",
       "      <td>LENSES</td>\n",
       "      <td>ML - ILC Cameras/Lenses</td>\n",
       "      <td>VP - Digital Imaging</td>\n",
       "      <td>399.99</td>\n",
       "      <td>399.99</td>\n",
       "      <td>399.99</td>\n",
       "      <td>Fully-Stocked</td>\n",
       "      <td>0</td>\n",
       "    </tr>\n",
       "    <tr>\n",
       "      <th>3</th>\n",
       "      <td>406</td>\n",
       "      <td>2017-05-28</td>\n",
       "      <td>DECK HARNESS</td>\n",
       "      <td>MOBILE ACCESSORIES</td>\n",
       "      <td>ML - Connected Car</td>\n",
       "      <td>VP - Electrify &amp; Car</td>\n",
       "      <td>34.99</td>\n",
       "      <td>34.99</td>\n",
       "      <td>34.99</td>\n",
       "      <td>Out-of-Stock</td>\n",
       "      <td>0</td>\n",
       "    </tr>\n",
       "    <tr>\n",
       "      <th>4</th>\n",
       "      <td>292</td>\n",
       "      <td>2017-05-28</td>\n",
       "      <td>SO PARTS</td>\n",
       "      <td>MOBILE ACCESSORIES</td>\n",
       "      <td>ML - Connected Car</td>\n",
       "      <td>VP - Electrify &amp; Car</td>\n",
       "      <td>49.99</td>\n",
       "      <td>49.99</td>\n",
       "      <td>49.99</td>\n",
       "      <td>Out-of-Stock</td>\n",
       "      <td>0</td>\n",
       "    </tr>\n",
       "  </tbody>\n",
       "</table>\n",
       "</div>"
      ],
      "text/plain": [
       "   Encoded_SKU_ID SALES_DATE      SUBCLASS_NAME          CLASS_NAME  \\\n",
       "0             214 2017-05-28          MISC ACCY  MOBILE ACCESSORIES   \n",
       "1             329 2017-05-28           SO PARTS  MOBILE ACCESSORIES   \n",
       "2              66 2017-05-28  MIRRORLESS LENSES              LENSES   \n",
       "3             406 2017-05-28       DECK HARNESS  MOBILE ACCESSORIES   \n",
       "4             292 2017-05-28           SO PARTS  MOBILE ACCESSORIES   \n",
       "\n",
       "                   ML_NAME         CATEGORY_NAME  RETAIL_PRICE  PROMO_PRICE2  \\\n",
       "0       ML - Connected Car  VP - Electrify & Car         19.99         19.99   \n",
       "1       ML - Connected Car  VP - Electrify & Car         16.99         16.99   \n",
       "2  ML - ILC Cameras/Lenses  VP - Digital Imaging        399.99        399.99   \n",
       "3       ML - Connected Car  VP - Electrify & Car         34.99         34.99   \n",
       "4       ML - Connected Car  VP - Electrify & Car         49.99         49.99   \n",
       "\n",
       "   COMPETITOR_PRICE2      Inventory  DAILY_UNITS  \n",
       "0              19.99   Out-of-Stock            0  \n",
       "1              16.99   Out-of-Stock            0  \n",
       "2             399.99  Fully-Stocked            0  \n",
       "3              34.99   Out-of-Stock            0  \n",
       "4              49.99   Out-of-Stock            0  "
      ]
     },
     "execution_count": 76,
     "metadata": {},
     "output_type": "execute_result"
    }
   ],
   "source": [
    "df = df0.copy()\n",
    "del df[\"PROMO_PRICE\"], df[\"COMPETITOR_PRICE\"]\n",
    "df.head()"
   ]
  },
  {
   "cell_type": "code",
   "execution_count": 50,
   "id": "f4625bf9",
   "metadata": {},
   "outputs": [],
   "source": [
    "from sklearn.preprocessing import OrdinalEncoder\n",
    "\n",
    "df[\"class_code\"] = OrdinalEncoder().fit_transform(df[[\"CLASS_NAME\"]])\n",
    "df[\"subclass_code\"] = OrdinalEncoder().fit_transform(df[[\"SUBCLASS_NAME\"]])\n"
   ]
  },
  {
   "cell_type": "code",
   "execution_count": 93,
   "id": "6322f9f4",
   "metadata": {},
   "outputs": [],
   "source": [
    "from sklearn.model_selection import train_test_split\n",
    "df_train, df_test= train_test_split(df,\n",
    "    test_size=0.15, random_state=2023)\n"
   ]
  },
  {
   "cell_type": "code",
   "execution_count": 78,
   "id": "32666687",
   "metadata": {},
   "outputs": [
    {
     "data": {
      "image/png": "[encoded data removed]",
      "text/plain": [
       "<Figure size 432x288 with 1 Axes>"
      ]
     },
     "metadata": {
      "needs_background": "light"
     },
     "output_type": "display_data"
    }
   ],
   "source": [
    "import pandas as pd\n",
    "import matplotlib.pyplot as plt\n",
    "\n",
    "\n",
    "def plot_data(df, x_variable, y_variable, title):\n",
    "    \"\"\"\n",
    "    Plot the x- and y- variables against each other, where the variables are columns in\n",
    "    a pandas dataframe\n",
    "    Args:\n",
    "        df: Pandas dataframe. \n",
    "        x_variable: String. Name of x-variable column\n",
    "        y_variable: String. Name of y-variable column\n",
    "        title: String. Desired title name\n",
    "    \"\"\"\n",
    "    fig, ax = plt.subplots()\n",
    "    ax.plot_date(df[x_variable], \n",
    "                 df[y_variable], marker='', linestyle='-', label=y_variable)\n",
    "    fig.autofmt_xdate()\n",
    "    plt.title(title)\n",
    "    plt.show()\n",
    "\n",
    "#### EXECUTE IN MAIN FUNCTION ####\n",
    "\n",
    "#Declare desired series ID\n",
    "series_ID='Encoded_SKU_ID'\n",
    "\n",
    "\n",
    "#Convert the Date column into a date object\n",
    "df['SALES_DATE']=pd.to_datetime(df['SALES_DATE'], format='%Y-%m-%d')\n",
    "\n",
    "\n",
    "#Plot the time series\n",
    "plot_data(df, 'SALES_DATE', \n",
    "          'DAILY_UNITS', \n",
    "          'BestBuy Sales Forecasting')"
   ]
  },
  {
   "cell_type": "code",
   "execution_count": 112,
   "id": "9e15e39c",
   "metadata": {},
   "outputs": [
    {
     "ename": "ImportError",
     "evalue": "cannot import name 'Literal' from 'statsmodels.compat.python' (/Users/samcourson/opt/anaconda3/lib/python3.9/site-packages/statsmodels/compat/python.py)",
     "output_type": "error",
     "traceback": [
      "\u001b[0;31m---------------------------------------------------------------------------\u001b[0m",
      "\u001b[0;31mImportError\u001b[0m                               Traceback (most recent call last)",
      "\u001b[0;32m/var/folders/xh/mmhct3q94cxbv8slz_rnygqh0000gn/T/ipykernel_3630/3326870030.py\u001b[0m in \u001b[0;36m<module>\u001b[0;34m\u001b[0m\n\u001b[1;32m      1\u001b[0m \u001b[0;32mfrom\u001b[0m \u001b[0mstatsmodels\u001b[0m\u001b[0;34m.\u001b[0m\u001b[0mtsa\u001b[0m\u001b[0;34m.\u001b[0m\u001b[0mseasonal\u001b[0m \u001b[0;32mimport\u001b[0m \u001b[0mseasonal_decompose\u001b[0m\u001b[0;34m\u001b[0m\u001b[0;34m\u001b[0m\u001b[0m\n\u001b[0;32m----> 2\u001b[0;31m \u001b[0;32mimport\u001b[0m \u001b[0mstatsmodels\u001b[0m\u001b[0;34m.\u001b[0m\u001b[0mapi\u001b[0m \u001b[0;32mas\u001b[0m \u001b[0msm_api\u001b[0m\u001b[0;34m\u001b[0m\u001b[0;34m\u001b[0m\u001b[0m\n\u001b[0m\u001b[1;32m      3\u001b[0m \u001b[0;34m\u001b[0m\u001b[0m\n\u001b[1;32m      4\u001b[0m \u001b[0;32mdef\u001b[0m \u001b[0mdecompose_time_series\u001b[0m\u001b[0;34m(\u001b[0m\u001b[0mseries\u001b[0m\u001b[0;34m)\u001b[0m\u001b[0;34m:\u001b[0m\u001b[0;34m\u001b[0m\u001b[0;34m\u001b[0m\u001b[0m\n\u001b[1;32m      5\u001b[0m     \"\"\"\n",
      "\u001b[0;32m~/opt/anaconda3/lib/python3.9/site-packages/statsmodels/api.py\u001b[0m in \u001b[0;36m<module>\u001b[0;34m\u001b[0m\n\u001b[1;32m     70\u001b[0m \u001b[0;34m\u001b[0m\u001b[0m\n\u001b[1;32m     71\u001b[0m \u001b[0;34m\u001b[0m\u001b[0m\n\u001b[0;32m---> 72\u001b[0;31m \u001b[0;32mfrom\u001b[0m \u001b[0;34m.\u001b[0m \u001b[0;32mimport\u001b[0m \u001b[0mdatasets\u001b[0m\u001b[0;34m,\u001b[0m \u001b[0mdistributions\u001b[0m\u001b[0;34m,\u001b[0m \u001b[0miolib\u001b[0m\u001b[0;34m,\u001b[0m \u001b[0mregression\u001b[0m\u001b[0;34m,\u001b[0m \u001b[0mrobust\u001b[0m\u001b[0;34m,\u001b[0m \u001b[0mtools\u001b[0m\u001b[0;34m\u001b[0m\u001b[0;34m\u001b[0m\u001b[0m\n\u001b[0m\u001b[1;32m     73\u001b[0m \u001b[0;32mfrom\u001b[0m \u001b[0;34m.\u001b[0m\u001b[0m__init__\u001b[0m \u001b[0;32mimport\u001b[0m \u001b[0mtest\u001b[0m\u001b[0;34m\u001b[0m\u001b[0;34m\u001b[0m\u001b[0m\n\u001b[1;32m     74\u001b[0m from .discrete.count_model import (\n",
      "\u001b[0;32m~/opt/anaconda3/lib/python3.9/site-packages/statsmodels/regression/__init__.py\u001b[0m in \u001b[0;36m<module>\u001b[0;34m\u001b[0m\n\u001b[0;32m----> 1\u001b[0;31m \u001b[0;32mfrom\u001b[0m \u001b[0;34m.\u001b[0m\u001b[0mlinear_model\u001b[0m \u001b[0;32mimport\u001b[0m \u001b[0myule_walker\u001b[0m\u001b[0;34m\u001b[0m\u001b[0;34m\u001b[0m\u001b[0m\n\u001b[0m\u001b[1;32m      2\u001b[0m \u001b[0;34m\u001b[0m\u001b[0m\n\u001b[1;32m      3\u001b[0m \u001b[0;32mfrom\u001b[0m \u001b[0mstatsmodels\u001b[0m\u001b[0;34m.\u001b[0m\u001b[0mtools\u001b[0m\u001b[0;34m.\u001b[0m\u001b[0m_testing\u001b[0m \u001b[0;32mimport\u001b[0m \u001b[0mPytestTester\u001b[0m\u001b[0;34m\u001b[0m\u001b[0;34m\u001b[0m\u001b[0m\n\u001b[1;32m      4\u001b[0m \u001b[0;34m\u001b[0m\u001b[0m\n\u001b[1;32m      5\u001b[0m \u001b[0m__all__\u001b[0m \u001b[0;34m=\u001b[0m \u001b[0;34m[\u001b[0m\u001b[0;34m'yule_walker'\u001b[0m\u001b[0;34m,\u001b[0m \u001b[0;34m'test'\u001b[0m\u001b[0;34m]\u001b[0m\u001b[0;34m\u001b[0m\u001b[0;34m\u001b[0m\u001b[0m\n",
      "\u001b[0;32m~/opt/anaconda3/lib/python3.9/site-packages/statsmodels/regression/linear_model.py\u001b[0m in \u001b[0;36m<module>\u001b[0;34m\u001b[0m\n\u001b[1;32m     34\u001b[0m \u001b[0;34m\u001b[0m\u001b[0m\n\u001b[1;32m     35\u001b[0m \u001b[0;32mfrom\u001b[0m \u001b[0mstatsmodels\u001b[0m\u001b[0;34m.\u001b[0m\u001b[0mcompat\u001b[0m\u001b[0;34m.\u001b[0m\u001b[0mpandas\u001b[0m \u001b[0;32mimport\u001b[0m \u001b[0mAppender\u001b[0m\u001b[0;34m\u001b[0m\u001b[0;34m\u001b[0m\u001b[0m\n\u001b[0;32m---> 36\u001b[0;31m \u001b[0;32mfrom\u001b[0m \u001b[0mstatsmodels\u001b[0m\u001b[0;34m.\u001b[0m\u001b[0mcompat\u001b[0m\u001b[0;34m.\u001b[0m\u001b[0mpython\u001b[0m \u001b[0;32mimport\u001b[0m \u001b[0mLiteral\u001b[0m\u001b[0;34m,\u001b[0m \u001b[0mlrange\u001b[0m\u001b[0;34m,\u001b[0m \u001b[0mlzip\u001b[0m\u001b[0;34m\u001b[0m\u001b[0;34m\u001b[0m\u001b[0m\n\u001b[0m\u001b[1;32m     37\u001b[0m \u001b[0;34m\u001b[0m\u001b[0m\n\u001b[1;32m     38\u001b[0m \u001b[0;32mfrom\u001b[0m \u001b[0mtyping\u001b[0m \u001b[0;32mimport\u001b[0m \u001b[0mSequence\u001b[0m\u001b[0;34m\u001b[0m\u001b[0;34m\u001b[0m\u001b[0m\n",
      "\u001b[0;31mImportError\u001b[0m: cannot import name 'Literal' from 'statsmodels.compat.python' (/Users/samcourson/opt/anaconda3/lib/python3.9/site-packages/statsmodels/compat/python.py)"
     ]
    }
   ],
   "source": [
    "from statsmodels.tsa.seasonal import seasonal_decompose\n",
    "import statsmodels.api as sm_api\n",
    "\n",
    "def decompose_time_series(series):\n",
    "    \"\"\"\n",
    "    Decompose a time series and plot it in the console\n",
    "    Arguments: \n",
    "        series: series. Time series that we want to decompose\n",
    "    Outputs: \n",
    "        Decomposition plot in the console\n",
    "    \"\"\"\n",
    "    result = seasonal_decompose(series, model='additive', period=1)\n",
    "    result.plot()\n",
    "    plt.show()\n",
    "\n",
    "\n",
    "#Decompose the time series to determine seasonality/trend\n",
    "df2 = df[df['Encoded_SKU_ID'] == 214]\n",
    "decompose_time_series(df2['DAILY_UNITS'] )"
   ]
  },
  {
   "cell_type": "code",
   "execution_count": 97,
   "id": "e2723cb4",
   "metadata": {},
   "outputs": [
    {
     "data": {
      "text/plain": [
       "([(0, 0, 0),\n",
       "  (0, 0, 1),\n",
       "  (0, 1, 0),\n",
       "  (0, 1, 1),\n",
       "  (1, 0, 0),\n",
       "  (1, 0, 1),\n",
       "  (1, 1, 0),\n",
       "  (1, 1, 1)],\n",
       " [(0, 0, 0, 365, 'n'),\n",
       "  (0, 0, 0, 365, 'c'),\n",
       "  (0, 0, 0, 365, 't'),\n",
       "  (0, 0, 0, 365, 'ct'),\n",
       "  (0, 0, 1, 365, 'n'),\n",
       "  (0, 0, 1, 365, 'c'),\n",
       "  (0, 0, 1, 365, 't'),\n",
       "  (0, 0, 1, 365, 'ct'),\n",
       "  (0, 1, 0, 365, 'n'),\n",
       "  (0, 1, 0, 365, 'c'),\n",
       "  (0, 1, 0, 365, 't'),\n",
       "  (0, 1, 0, 365, 'ct'),\n",
       "  (0, 1, 1, 365, 'n'),\n",
       "  (0, 1, 1, 365, 'c'),\n",
       "  (0, 1, 1, 365, 't'),\n",
       "  (0, 1, 1, 365, 'ct'),\n",
       "  (1, 0, 0, 365, 'n'),\n",
       "  (1, 0, 0, 365, 'c'),\n",
       "  (1, 0, 0, 365, 't'),\n",
       "  (1, 0, 0, 365, 'ct'),\n",
       "  (1, 0, 1, 365, 'n'),\n",
       "  (1, 0, 1, 365, 'c'),\n",
       "  (1, 0, 1, 365, 't'),\n",
       "  (1, 0, 1, 365, 'ct'),\n",
       "  (1, 1, 0, 365, 'n'),\n",
       "  (1, 1, 0, 365, 'c'),\n",
       "  (1, 1, 0, 365, 't'),\n",
       "  (1, 1, 0, 365, 'ct'),\n",
       "  (1, 1, 1, 365, 'n'),\n",
       "  (1, 1, 1, 365, 'c'),\n",
       "  (1, 1, 1, 365, 't'),\n",
       "  (1, 1, 1, 365, 'ct')])"
      ]
     },
     "execution_count": 97,
     "metadata": {},
     "output_type": "execute_result"
    }
   ],
   "source": [
    "import itertools\n",
    "\n",
    "def sarima_parameter_search(search_range, seasonal = [365]):\n",
    "    \"\"\"\n",
    "    Get all of the parameter combinations for a SARIMA model.\n",
    "    \"\"\"\n",
    "    p = q = d = range(0, search_range)\n",
    "    trend = ['n','c','t','ct']\n",
    "    pdq = list(itertools.product(p, d, q))\n",
    "    pdq_combinations = [(x[0], x[1], x[2], x[3], x[4]) for x in list(itertools.product(p, d, q, seasonal, trend))]\n",
    "    return pdq, pdq_combinations\n",
    "\n",
    "### EXECUTE IN MAIN FUNCTION ###\n",
    "order_combos, seasonal_order_combos = sarima_parameter_search(search_range = 2)\n",
    "\n",
    "order_combos, seasonal_order_combos"
   ]
  },
  {
   "cell_type": "code",
   "execution_count": 110,
   "id": "124dca96",
   "metadata": {},
   "outputs": [],
   "source": [
    "def seasonal_arima_model(time_series, order, seasonal_order, trend):\n",
    "    \"\"\"\n",
    "    Generate a seasonal ARIMA model using a set of hyperparameters. Returns the model fit, and the \n",
    "    associated model AIC and BIC values.\n",
    "    \"\"\" \n",
    "    try:\n",
    "        model = sm_api.tsa.SARIMAX(time_series, \n",
    "                                   order=order, \n",
    "                                   seasonal_order=seasonal_order, \n",
    "                                   trend = trend,\n",
    "                                   enforce_stationarity=False, \n",
    "                                   enforce_invertibility=False)\n",
    "        model_fit = model.fit()\n",
    "        #Print the model results\n",
    "        print(model_fit.summary())\n",
    "        return model_fit, model_fit.aic, model_fit.bic\n",
    "    except:\n",
    "        print(\"Could not fit with the designated model parameters\")\n",
    "        return None, None, None\n"
   ]
  },
  {
   "cell_type": "code",
   "execution_count": 96,
   "id": "6272ecc4",
   "metadata": {},
   "outputs": [
    {
     "name": "stdout",
     "output_type": "stream",
     "text": [
      "Could not fit with the designated model parameters\n"
     ]
    },
    {
     "ename": "TypeError",
     "evalue": "'<' not supported between instances of 'NoneType' and 'int'",
     "output_type": "error",
     "traceback": [
      "\u001b[0;31m---------------------------------------------------------------------------\u001b[0m",
      "\u001b[0;31mTypeError\u001b[0m                                 Traceback (most recent call last)",
      "\u001b[0;32m/var/folders/xh/mmhct3q94cxbv8slz_rnygqh0000gn/T/ipykernel_3630/2331208706.py\u001b[0m in \u001b[0;36m<module>\u001b[0;34m\u001b[0m\n\u001b[1;32m     16\u001b[0m         \u001b[0;31m#Set with the newest value if the lowest_aic_value hasn't yet been calculated (on first run),\u001b[0m\u001b[0;34m\u001b[0m\u001b[0;34m\u001b[0m\u001b[0m\n\u001b[1;32m     17\u001b[0m         \u001b[0;31m#or if the newly calculated model AIC is lower than the lowest calculated AIC value\u001b[0m\u001b[0;34m\u001b[0m\u001b[0;34m\u001b[0m\u001b[0m\n\u001b[0;32m---> 18\u001b[0;31m         \u001b[0;32mif\u001b[0m \u001b[0;34m(\u001b[0m\u001b[0mmodel_aic\u001b[0m \u001b[0;34m<\u001b[0m \u001b[0mlowest_aic_val\u001b[0m\u001b[0;34m)\u001b[0m\u001b[0;34m:\u001b[0m\u001b[0;34m\u001b[0m\u001b[0;34m\u001b[0m\u001b[0m\n\u001b[0m\u001b[1;32m     19\u001b[0m             \u001b[0mlowest_aic_val\u001b[0m \u001b[0;34m=\u001b[0m \u001b[0mmodel_aic\u001b[0m\u001b[0;34m\u001b[0m\u001b[0;34m\u001b[0m\u001b[0m\n\u001b[1;32m     20\u001b[0m             \u001b[0mbest_model\u001b[0m \u001b[0;34m=\u001b[0m \u001b[0mmodel_fit\u001b[0m\u001b[0;34m\u001b[0m\u001b[0;34m\u001b[0m\u001b[0m\n",
      "\u001b[0;31mTypeError\u001b[0m: '<' not supported between instances of 'NoneType' and 'int'"
     ]
    }
   ],
   "source": [
    "### EXECUTE IN MAIN FUNCTION ###\n",
    "lowest_aic_val = 100000000000\n",
    "#Generate  model for each of hyperparameter combination in a loop\n",
    "\n",
    "\n",
    "for order_combo in order_combos:\n",
    "    for seasonal_order_combo in seasonal_order_combos:\n",
    "        #Convert the combination to list format\n",
    "        seasonal_order_combo = list(seasonal_order_combo)\n",
    "        \n",
    "        #Generate the SARIMA model\n",
    "        model_fit, model_aic, model_bic = seasonal_arima_model(time_series = df_train, \n",
    "                                                    order = order_combo, \n",
    "                                                    seasonal_order = seasonal_order_combo[0:4],\n",
    "                                                    trend = seasonal_order_combo[-1])\n",
    "        #Test model performance, and keep running tab of best performing model\n",
    "        #Set with the newest value if the lowest_aic_value hasn't yet been calculated (on first run),\n",
    "        #or if the newly calculated model AIC is lower than the lowest calculated AIC value\n",
    "        if (model_aic < lowest_aic_val):\n",
    "            lowest_aic_val = model_aic\n",
    "            best_model = model_fit\n",
    "            best_order = order_combo\n",
    "            best_seasonal_order = seasonal_order_combo\n",
    "            \n",
    "#Print the best model parameters after the \n",
    "print(\"Best model paramaters: order-- \", best_order, \", seasonal order-- \", best_seasonal_order)"
   ]
  },
  {
   "cell_type": "code",
   "execution_count": null,
   "id": "f7b9465e",
   "metadata": {},
   "outputs": [],
   "source": []
  }
 ],
 "metadata": {
  "kernelspec": {
   "display_name": "Python 3 (ipykernel)",
   "language": "python",
   "name": "python3"
  },
  "language_info": {
   "codemirror_mode": {
    "name": "ipython",
    "version": 3
   },
   "file_extension": ".py",
   "mimetype": "text/x-python",
   "name": "python",
   "nbconvert_exporter": "python",
   "pygments_lexer": "ipython3",
   "version": "3.9.7"
  }
 },
 "nbformat": 4,
 "nbformat_minor": 5
}
