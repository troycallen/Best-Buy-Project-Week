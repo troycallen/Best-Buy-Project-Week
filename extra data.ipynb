{
 "cells": [
  {
   "cell_type": "code",
   "execution_count": 1,
   "id": "21687663",
   "metadata": {},
   "outputs": [],
   "source": [
    "import pandas as pd "
   ]
  },
  {
   "cell_type": "markdown",
   "id": "29e2f6a8",
   "metadata": {},
   "source": [
    "### Read in the data "
   ]
  },
  {
   "cell_type": "code",
   "execution_count": 8,
   "id": "940f4fbb",
   "metadata": {},
   "outputs": [],
   "source": [
    "stock = pd.read_csv(\"~/Downloads/BBY (1).csv\")\n",
    "ten_minus_two = pd.read_csv(\"~/Downloads/T10Y2Y.csv\")\n",
    "ten_year = pd.read_csv(\"~/Downloads/DGS10.csv\")"
   ]
  },
  {
   "cell_type": "markdown",
   "id": "539b49e7",
   "metadata": {},
   "source": [
    "### First Merge "
   ]
  },
  {
   "cell_type": "code",
   "execution_count": 13,
   "id": "235eee14",
   "metadata": {},
   "outputs": [],
   "source": [
    "merge1 = stock.merge(ten_minus_two, how = 'left', right_on = 'DATE', left_on ='Date')"
   ]
  },
  {
   "cell_type": "markdown",
   "id": "60949dac",
   "metadata": {},
   "source": [
    "### Second Merge "
   ]
  },
  {
   "cell_type": "code",
   "execution_count": 15,
   "id": "85d2cc0d",
   "metadata": {},
   "outputs": [],
   "source": [
    "merge2 = merge1.merge(ten_year, how = 'left', on = 'DATE')"
   ]
  },
  {
   "cell_type": "code",
   "execution_count": 19,
   "id": "b93a9ed1",
   "metadata": {},
   "outputs": [],
   "source": [
    "extra_data = merge2.drop('DATE', axis = 1)"
   ]
  },
  {
   "cell_type": "code",
   "execution_count": 20,
   "id": "b81dc1ae",
   "metadata": {},
   "outputs": [
    {
     "data": {
      "text/html": [
       "<div>\n",
       "<style scoped>\n",
       "    .dataframe tbody tr th:only-of-type {\n",
       "        vertical-align: middle;\n",
       "    }\n",
       "\n",
       "    .dataframe tbody tr th {\n",
       "        vertical-align: top;\n",
       "    }\n",
       "\n",
       "    .dataframe thead th {\n",
       "        text-align: right;\n",
       "    }\n",
       "</style>\n",
       "<table border=\"1\" class=\"dataframe\">\n",
       "  <thead>\n",
       "    <tr style=\"text-align: right;\">\n",
       "      <th></th>\n",
       "      <th>Date</th>\n",
       "      <th>Open</th>\n",
       "      <th>High</th>\n",
       "      <th>Low</th>\n",
       "      <th>Close</th>\n",
       "      <th>Adj Close</th>\n",
       "      <th>Volume</th>\n",
       "      <th>T10Y2Y</th>\n",
       "      <th>DGS10</th>\n",
       "    </tr>\n",
       "  </thead>\n",
       "  <tbody>\n",
       "    <tr>\n",
       "      <th>0</th>\n",
       "      <td>2017-05-30</td>\n",
       "      <td>58.799999</td>\n",
       "      <td>59.820000</td>\n",
       "      <td>58.700001</td>\n",
       "      <td>59.279999</td>\n",
       "      <td>50.152161</td>\n",
       "      <td>5326200</td>\n",
       "      <td>0.93</td>\n",
       "      <td>2.21</td>\n",
       "    </tr>\n",
       "    <tr>\n",
       "      <th>1</th>\n",
       "      <td>2017-05-31</td>\n",
       "      <td>59.320000</td>\n",
       "      <td>59.439999</td>\n",
       "      <td>58.709999</td>\n",
       "      <td>59.389999</td>\n",
       "      <td>50.245220</td>\n",
       "      <td>5726700</td>\n",
       "      <td>0.93</td>\n",
       "      <td>2.21</td>\n",
       "    </tr>\n",
       "    <tr>\n",
       "      <th>2</th>\n",
       "      <td>2017-06-01</td>\n",
       "      <td>59.360001</td>\n",
       "      <td>60.340000</td>\n",
       "      <td>59.169998</td>\n",
       "      <td>60.299999</td>\n",
       "      <td>51.015110</td>\n",
       "      <td>3448800</td>\n",
       "      <td>0.93</td>\n",
       "      <td>2.21</td>\n",
       "    </tr>\n",
       "    <tr>\n",
       "      <th>3</th>\n",
       "      <td>2017-06-02</td>\n",
       "      <td>60.299999</td>\n",
       "      <td>60.349998</td>\n",
       "      <td>59.230000</td>\n",
       "      <td>59.669998</td>\n",
       "      <td>50.482113</td>\n",
       "      <td>4695700</td>\n",
       "      <td>0.87</td>\n",
       "      <td>2.15</td>\n",
       "    </tr>\n",
       "    <tr>\n",
       "      <th>4</th>\n",
       "      <td>2017-06-05</td>\n",
       "      <td>59.820000</td>\n",
       "      <td>59.869999</td>\n",
       "      <td>59.180000</td>\n",
       "      <td>59.520000</td>\n",
       "      <td>50.355217</td>\n",
       "      <td>3514100</td>\n",
       "      <td>0.86</td>\n",
       "      <td>2.18</td>\n",
       "    </tr>\n",
       "  </tbody>\n",
       "</table>\n",
       "</div>"
      ],
      "text/plain": [
       "         Date       Open       High        Low      Close  Adj Close   Volume  \\\n",
       "0  2017-05-30  58.799999  59.820000  58.700001  59.279999  50.152161  5326200   \n",
       "1  2017-05-31  59.320000  59.439999  58.709999  59.389999  50.245220  5726700   \n",
       "2  2017-06-01  59.360001  60.340000  59.169998  60.299999  51.015110  3448800   \n",
       "3  2017-06-02  60.299999  60.349998  59.230000  59.669998  50.482113  4695700   \n",
       "4  2017-06-05  59.820000  59.869999  59.180000  59.520000  50.355217  3514100   \n",
       "\n",
       "  T10Y2Y DGS10  \n",
       "0   0.93  2.21  \n",
       "1   0.93  2.21  \n",
       "2   0.93  2.21  \n",
       "3   0.87  2.15  \n",
       "4   0.86  2.18  "
      ]
     },
     "execution_count": 20,
     "metadata": {},
     "output_type": "execute_result"
    }
   ],
   "source": [
    "extra_data.head()"
   ]
  },
  {
   "cell_type": "markdown",
   "id": "fddddc85",
   "metadata": {},
   "source": [
    "### Renaming Columns"
   ]
  },
  {
   "cell_type": "code",
   "execution_count": 21,
   "id": "6a8dca3b",
   "metadata": {},
   "outputs": [],
   "source": [
    "extra_data = extra_data.rename(columns = {'T10Y2Y': 'Treasury Spread', 'DGS10': '10-Year Treasury Yield'})"
   ]
  },
  {
   "cell_type": "markdown",
   "id": "3be5fc97",
   "metadata": {},
   "source": [
    "### Dropping Extra Columns"
   ]
  },
  {
   "cell_type": "code",
   "execution_count": 23,
   "id": "789d8d70",
   "metadata": {},
   "outputs": [],
   "source": [
    "extra_data = extra_data.drop(['Open', 'High','Low', 'Adj Close', 'Volume'], axis =1 )"
   ]
  },
  {
   "cell_type": "code",
   "execution_count": 24,
   "id": "62c33169",
   "metadata": {},
   "outputs": [
    {
     "data": {
      "text/html": [
       "<div>\n",
       "<style scoped>\n",
       "    .dataframe tbody tr th:only-of-type {\n",
       "        vertical-align: middle;\n",
       "    }\n",
       "\n",
       "    .dataframe tbody tr th {\n",
       "        vertical-align: top;\n",
       "    }\n",
       "\n",
       "    .dataframe thead th {\n",
       "        text-align: right;\n",
       "    }\n",
       "</style>\n",
       "<table border=\"1\" class=\"dataframe\">\n",
       "  <thead>\n",
       "    <tr style=\"text-align: right;\">\n",
       "      <th></th>\n",
       "      <th>Date</th>\n",
       "      <th>Close</th>\n",
       "      <th>Treasury Spread</th>\n",
       "      <th>10-Year Treasury Yield</th>\n",
       "    </tr>\n",
       "  </thead>\n",
       "  <tbody>\n",
       "    <tr>\n",
       "      <th>0</th>\n",
       "      <td>2017-05-30</td>\n",
       "      <td>59.279999</td>\n",
       "      <td>0.93</td>\n",
       "      <td>2.21</td>\n",
       "    </tr>\n",
       "    <tr>\n",
       "      <th>1</th>\n",
       "      <td>2017-05-31</td>\n",
       "      <td>59.389999</td>\n",
       "      <td>0.93</td>\n",
       "      <td>2.21</td>\n",
       "    </tr>\n",
       "    <tr>\n",
       "      <th>2</th>\n",
       "      <td>2017-06-01</td>\n",
       "      <td>60.299999</td>\n",
       "      <td>0.93</td>\n",
       "      <td>2.21</td>\n",
       "    </tr>\n",
       "    <tr>\n",
       "      <th>3</th>\n",
       "      <td>2017-06-02</td>\n",
       "      <td>59.669998</td>\n",
       "      <td>0.87</td>\n",
       "      <td>2.15</td>\n",
       "    </tr>\n",
       "    <tr>\n",
       "      <th>4</th>\n",
       "      <td>2017-06-05</td>\n",
       "      <td>59.520000</td>\n",
       "      <td>0.86</td>\n",
       "      <td>2.18</td>\n",
       "    </tr>\n",
       "  </tbody>\n",
       "</table>\n",
       "</div>"
      ],
      "text/plain": [
       "         Date      Close Treasury Spread 10-Year Treasury Yield\n",
       "0  2017-05-30  59.279999            0.93                   2.21\n",
       "1  2017-05-31  59.389999            0.93                   2.21\n",
       "2  2017-06-01  60.299999            0.93                   2.21\n",
       "3  2017-06-02  59.669998            0.87                   2.15\n",
       "4  2017-06-05  59.520000            0.86                   2.18"
      ]
     },
     "execution_count": 24,
     "metadata": {},
     "output_type": "execute_result"
    }
   ],
   "source": [
    "extra_data.head()"
   ]
  },
  {
   "cell_type": "markdown",
   "id": "a29d8152",
   "metadata": {},
   "source": [
    "### Exporting Data as a CSV"
   ]
  },
  {
   "cell_type": "code",
   "execution_count": 27,
   "id": "e3674638",
   "metadata": {},
   "outputs": [],
   "source": [
    "extra_data.to_csv('extra_data.csv')"
   ]
  }
 ],
 "metadata": {
  "kernelspec": {
   "display_name": "Python 3 (ipykernel)",
   "language": "python",
   "name": "python3"
  },
  "language_info": {
   "codemirror_mode": {
    "name": "ipython",
    "version": 3
   },
   "file_extension": ".py",
   "mimetype": "text/x-python",
   "name": "python",
   "nbconvert_exporter": "python",
   "pygments_lexer": "ipython3",
   "version": "3.9.7"
  }
 },
 "nbformat": 4,
 "nbformat_minor": 5
}
